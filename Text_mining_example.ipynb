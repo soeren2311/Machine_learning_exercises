{
  "nbformat": 4,
  "nbformat_minor": 0,
  "metadata": {
    "colab": {
      "provenance": [],
      "authorship_tag": "ABX9TyO06fIhXuqOnvTnu2tiz7oP",
      "include_colab_link": true
    },
    "kernelspec": {
      "name": "python3",
      "display_name": "Python 3"
    },
    "language_info": {
      "name": "python"
    }
  },
  "cells": [
    {
      "cell_type": "markdown",
      "metadata": {
        "id": "view-in-github",
        "colab_type": "text"
      },
      "source": [
        "<a href=\"https://colab.research.google.com/github/soeren2311/Machine_learning_exercises/blob/main/Text_mining_example.ipynb\" target=\"_parent\"><img src=\"https://colab.research.google.com/assets/colab-badge.svg\" alt=\"Open In Colab\"/></a>"
      ]
    },
    {
      "cell_type": "markdown",
      "source": [
        "# **Natural Language Tool Kit (NLTK)**\n",
        "\n",
        "## NLTK is a suite of libraries and programs for symbolic and statistical natural language processing for English written in the Python programming language.\n",
        "\n"
      ],
      "metadata": {
        "id": "C6RaO9N9fIun"
      }
    },
    {
      "cell_type": "markdown",
      "source": [
        "### Algorithmen, die beim text mining am häufigsten verwendet werden sind\n",
        "\n",
        "#### - **Tokenizing (dt. Tokenisierung):** Tokenisierung ist der Prozess des Aufteilens eines Textes in kleinere Einheiten, die als Token bezeichnet werden. Ein Token kann ein Wort, eine Phrase, ein Satzzeichen oder ein anderes Element sein, das im Text eine Bedeutung hat. Es gibt zwei Arten von Tokenizern: Sentence Tokenization und word Tokenization\n",
        "\n",
        "#### - **Part of speech tagging**\n",
        "#### - **Stemming**\n",
        "#### - **Sentiment analysis**\n",
        "#### - **Topic segmentation**\n",
        "#### - **Named entity identification**"
      ],
      "metadata": {
        "id": "f2VYojApgG2n"
      }
    },
    {
      "cell_type": "markdown",
      "source": [
        "## Download ...\n",
        "\n",
        "#### **punkt**: Dieser Tokenizer unterteilt einen Text in eine Liste von Sätzen, indem er einen unüberwachten Algorithmus verwendet, um ein Modell für Abkürzungswörter, Kollokationen und Wörter, die Sätze einleiten, zu erstellen.\n",
        "\n",
        "#### **Stopwords**: Stopwords sind Wörter in einem Text, die normalerweise ignoriert werden, da sie sehr häufig vorkommen und wenig semantische Bedeutung haben. Diese Wörter sind oft kurze Wörter wie \"der\", \"die\", \"und\", \"in\", \"von\", \"ein\", \"zu\" und viele andere. Sie werden in der Regel von Suchmaschinen und anderen textbasierten Anwendungen aus dem Text entfernt, um die Suche zu verbessern oder den Speicherbedarf zu reduzieren.\n",
        "\n",
        "#### **WordNet**: WordNet ist eine lexikalische Datenbank und ein semantisches Netzwerk, das Wörter und ihre Bedeutungen miteinander verbindet. Es enthält eine hierarchische Organisation von Synonymen und semantischen Beziehungen zwischen Wörtern und ermöglicht es, Wortbedeutungen automatisch zu erkennen und zu analysieren. WordNet ist eine der bekanntesten und am häufigsten verwendeten Ressourcen für die natürliche Sprachverarbeitung."
      ],
      "metadata": {
        "id": "AwOFjt-LgUsf"
      }
    },
    {
      "cell_type": "code",
      "source": [
        "import nltk"
      ],
      "metadata": {
        "id": "bBr_tZcLe_8P"
      },
      "execution_count": 2,
      "outputs": []
    },
    {
      "cell_type": "code",
      "source": [
        "nltk.download('punkt')\n",
        "nltk.download('stopwords')\n",
        "nltk.download('wordnet')\n",
        "nltk.download('omw-1.4')\n",
        "nltk.download('average_perceptron_tagger')"
      ],
      "metadata": {
        "colab": {
          "base_uri": "https://localhost:8080/"
        },
        "id": "TAXQrmLne_-n",
        "outputId": "0cc574ff-15d3-466e-bb07-8aa8b0853239"
      },
      "execution_count": 3,
      "outputs": [
        {
          "output_type": "stream",
          "name": "stderr",
          "text": [
            "[nltk_data] Downloading package punkt to /root/nltk_data...\n",
            "[nltk_data]   Unzipping tokenizers/punkt.zip.\n",
            "[nltk_data] Downloading package stopwords to /root/nltk_data...\n",
            "[nltk_data]   Unzipping corpora/stopwords.zip.\n",
            "[nltk_data] Downloading package wordnet to /root/nltk_data...\n",
            "[nltk_data] Downloading package omw-1.4 to /root/nltk_data...\n",
            "[nltk_data] Error loading average_perceptron_tagger: Package\n",
            "[nltk_data]     'average_perceptron_tagger' not found in index\n"
          ]
        },
        {
          "output_type": "execute_result",
          "data": {
            "text/plain": [
              "False"
            ]
          },
          "metadata": {},
          "execution_count": 3
        }
      ]
    },
    {
      "cell_type": "code",
      "source": [
        "## Tokenization\n",
        "\n",
        "from nltk.tokenize import sent_tokenize ## function\n",
        "text = '''B2B stands for Business to Business and refers to a Business selling goods or services to another Business. In the B2C (Business to Customer) model, the end user is an individual.\n",
        "The result is the same for the company; they sell their product or service. However, the Business Model and the Marketing strategies are quite different.\n",
        "A simple example is a farmer who grows strawberries. He can sell his entire crop to a retailer or distributor for a discounted price, in one easy transaction B2B. Or he can set-up a small farm shop and sell \n",
        "punnets of strawberries to individual consumers at a higher price B2C. The B2C model generates more money for his strawberries but requires a lot of his time.\n",
        "With the B2B model, the Business needs to set-up long-term, trusted relationships with other Businesses. The B2C model requires marketing, brand recognition and advertising to attract customers.'''\n",
        "tokenized_text = sent_tokenize(text)\n",
        "print(tokenized_text)"
      ],
      "metadata": {
        "colab": {
          "base_uri": "https://localhost:8080/"
        },
        "id": "SYslTBoufAA_",
        "outputId": "03dd5036-cecd-4de2-8a81-889c90d60811"
      },
      "execution_count": 6,
      "outputs": [
        {
          "output_type": "stream",
          "name": "stdout",
          "text": [
            "['B2B stands for Business to Business and refers to a Business selling goods or services to another Business.', 'In the B2C (Business to Customer) model, the end user is an individual.', 'The result is the same for the company; they sell their product or service.', 'However, the Business Model and the Marketing strategies are quite different.', 'A simple example is a farmer who grows strawberries.', 'He can sell his entire crop to a retailer or distributor for a discounted price, in one easy transaction B2B.', 'Or he can set-up a small farm shop and sell \\npunnets of strawberries to individual consumers at a higher price B2C.', 'The B2C model generates more money for his strawberries but requires a lot of his time.', 'With the B2B model, the Business needs to set-up long-term, trusted relationships with other Businesses.', 'The B2C model requires marketing, brand recognition and advertising to attract customers.']\n"
          ]
        }
      ]
    },
    {
      "cell_type": "code",
      "source": [
        "from nltk.tokenize import word_tokenize ## function\n",
        "tokenized_word = word_tokenize(text)\n",
        "print(tokenized_word)"
      ],
      "metadata": {
        "colab": {
          "base_uri": "https://localhost:8080/"
        },
        "id": "9eECR6u-lPPb",
        "outputId": "c1778e6f-8ef7-41c3-b671-b9dd76386903"
      },
      "execution_count": 18,
      "outputs": [
        {
          "output_type": "stream",
          "name": "stdout",
          "text": [
            "['B2B', 'stands', 'for', 'Business', 'to', 'Business', 'and', 'refers', 'to', 'a', 'Business', 'selling', 'goods', 'or', 'services', 'to', 'another', 'Business', '.', 'In', 'the', 'B2C', '(', 'Business', 'to', 'Customer', ')', 'model', ',', 'the', 'end', 'user', 'is', 'an', 'individual', '.', 'The', 'result', 'is', 'the', 'same', 'for', 'the', 'company', ';', 'they', 'sell', 'their', 'product', 'or', 'service', '.', 'However', ',', 'the', 'Business', 'Model', 'and', 'the', 'Marketing', 'strategies', 'are', 'quite', 'different', '.', 'A', 'simple', 'example', 'is', 'a', 'farmer', 'who', 'grows', 'strawberries', '.', 'He', 'can', 'sell', 'his', 'entire', 'crop', 'to', 'a', 'retailer', 'or', 'distributor', 'for', 'a', 'discounted', 'price', ',', 'in', 'one', 'easy', 'transaction', 'B2B', '.', 'Or', 'he', 'can', 'set-up', 'a', 'small', 'farm', 'shop', 'and', 'sell', 'punnets', 'of', 'strawberries', 'to', 'individual', 'consumers', 'at', 'a', 'higher', 'price', 'B2C', '.', 'The', 'B2C', 'model', 'generates', 'more', 'money', 'for', 'his', 'strawberries', 'but', 'requires', 'a', 'lot', 'of', 'his', 'time', '.', 'With', 'the', 'B2B', 'model', ',', 'the', 'Business', 'needs', 'to', 'set-up', 'long-term', ',', 'trusted', 'relationships', 'with', 'other', 'Businesses', '.', 'The', 'B2C', 'model', 'requires', 'marketing', ',', 'brand', 'recognition', 'and', 'advertising', 'to', 'attract', 'customers', '.']\n"
          ]
        }
      ]
    },
    {
      "cell_type": "code",
      "source": [
        "from nltk.probability import FreqDist ## FreqDist module\n",
        "frequency = FreqDist(tokenized_word)\n",
        "print(frequency)"
      ],
      "metadata": {
        "colab": {
          "base_uri": "https://localhost:8080/"
        },
        "id": "HQv_0NtqmGeO",
        "outputId": "3c1838af-ed21-4644-dae3-33df0e2d0154"
      },
      "execution_count": 19,
      "outputs": [
        {
          "output_type": "stream",
          "name": "stdout",
          "text": [
            "<FreqDist with 96 samples and 168 outcomes>\n"
          ]
        }
      ]
    },
    {
      "cell_type": "markdown",
      "source": [
        "### In diesem Fall hat die Häufigkeitsverteilung 96 unterschiedliche Stichproben oder Token im Text erkannt und insgesamt 168 Ereignisse oder Vorkommen dieser Stichproben gezählt."
      ],
      "metadata": {
        "id": "VMrql8tpm_5h"
      }
    },
    {
      "cell_type": "code",
      "source": [
        "frequency.most_common(5)"
      ],
      "metadata": {
        "colab": {
          "base_uri": "https://localhost:8080/"
        },
        "id": "OqOCo8sAnEFZ",
        "outputId": "fe770ced-bb2e-4b21-9137-d79d85eb4b01"
      },
      "execution_count": 20,
      "outputs": [
        {
          "output_type": "execute_result",
          "data": {
            "text/plain": [
              "[('.', 10), ('to', 8), ('the', 8), ('Business', 7), ('a', 7)]"
            ]
          },
          "metadata": {},
          "execution_count": 20
        }
      ]
    },
    {
      "cell_type": "code",
      "source": [
        "import matplotlib.pyplot as plt\n",
        "frequency.plot(20, cumulative=False)\n",
        "plt.show()"
      ],
      "metadata": {
        "colab": {
          "base_uri": "https://localhost:8080/",
          "height": 332
        },
        "id": "TmbhpMxbndzU",
        "outputId": "7b655cb7-7be1-4a00-c105-62aa9977fae8"
      },
      "execution_count": 21,
      "outputs": [
        {
          "output_type": "display_data",
          "data": {
            "text/plain": [
              "<Figure size 432x288 with 1 Axes>"
            ],
            "image/png": "[encoded data removed]"
          },
          "metadata": {
            "needs_background": "light"
          }
        }
      ]
    },
    {
      "cell_type": "markdown",
      "source": [
        "### **Stopwords**: am, is, are, this, a, an\n",
        "### --> Nicht benötigt im Rahmen von text-mining"
      ],
      "metadata": {
        "id": "4QUBZsfLoDxV"
      }
    },
    {
      "cell_type": "code",
      "source": [
        "from nltk.corpus import stopwords\n",
        "stop_words=set(stopwords.words(\"english\"))\n",
        "print(stop_words)"
      ],
      "metadata": {
        "colab": {
          "base_uri": "https://localhost:8080/"
        },
        "id": "zOEOMR32oABG",
        "outputId": "82085e06-267c-48dd-d8d9-4a9b3bc64011"
      },
      "execution_count": 22,
      "outputs": [
        {
          "output_type": "stream",
          "name": "stdout",
          "text": [
            "{'won', 'below', 'myself', 'them', 'above', 'll', 'himself', 'such', 'does', \"didn't\", 'his', 'mightn', 'which', \"should've\", 'all', 'doing', 'too', 't', 'shouldn', 'do', 'will', 'about', 'an', 'hadn', 'mustn', 'down', \"hadn't\", 'where', 'itself', 'again', \"haven't\", \"don't\", 'what', 'him', 'and', \"she's\", 'have', 're', 'or', 'here', 'in', \"wouldn't\", \"you're\", 'into', 'because', 'of', 'just', 'your', 'if', 'he', \"shan't\", 'wouldn', 'no', 'hers', 'been', 'from', 'once', 'doesn', \"weren't\", 'we', \"aren't\", 'was', 'same', 'shan', 'they', 'up', 'on', 'is', \"doesn't\", 'any', 'needn', \"wasn't\", 'under', 'then', 'had', 'd', 'both', 'few', 'how', 'now', 'has', 'only', 'am', 've', 'who', 'but', \"mightn't\", 'y', 'when', 'isn', 'o', 'wasn', 'their', 'being', 'there', 'than', 'aren', 'to', 'are', 'by', 'for', 'be', 'out', 'haven', 'm', 'didn', 'nor', 'ma', 'it', \"hasn't\", 'ourselves', 'more', 'i', 'each', \"needn't\", \"won't\", 'should', 'at', 'hasn', 'weren', 'some', \"you'll\", 'herself', 'the', 'don', 'theirs', 'through', \"you've\", 'most', 'between', 'themselves', 'were', 'very', \"couldn't\", 'over', \"that'll\", 'not', 'these', 'can', 'during', 'further', 'as', 'couldn', \"mustn't\", 'yours', 'against', 'you', 'whom', 'those', \"you'd\", 'before', 'that', \"it's\", 'a', 'with', 'ours', 'ain', 'yourself', 'after', 'why', 'so', 'my', 'our', 's', \"isn't\", \"shouldn't\", 'this', 'off', 'its', 'her', 'did', 'me', 'until', 'while', 'having', 'she', 'own', 'yourselves', 'other'}\n"
          ]
        }
      ]
    },
    {
      "cell_type": "code",
      "source": [
        "## Remove stopwords\n",
        "\n",
        "filtered_sent = []\n",
        "for w in tokenized_word:\n",
        "  if w not in stop_words:\n",
        "    filtered_sent.append(w)\n",
        "print(\"Tokenized Sentence: \", tokenized_word)\n",
        "print(\"Filtered Sentece: \", filtered_sent)"
      ],
      "metadata": {
        "colab": {
          "base_uri": "https://localhost:8080/"
        },
        "id": "XyZVt6_corc5",
        "outputId": "4957d85d-3cb1-444c-bce9-e70c2bf3f0ec"
      },
      "execution_count": 24,
      "outputs": [
        {
          "output_type": "stream",
          "name": "stdout",
          "text": [
            "Tokenized Sentence:  ['B2B', 'stands', 'for', 'Business', 'to', 'Business', 'and', 'refers', 'to', 'a', 'Business', 'selling', 'goods', 'or', 'services', 'to', 'another', 'Business', '.', 'In', 'the', 'B2C', '(', 'Business', 'to', 'Customer', ')', 'model', ',', 'the', 'end', 'user', 'is', 'an', 'individual', '.', 'The', 'result', 'is', 'the', 'same', 'for', 'the', 'company', ';', 'they', 'sell', 'their', 'product', 'or', 'service', '.', 'However', ',', 'the', 'Business', 'Model', 'and', 'the', 'Marketing', 'strategies', 'are', 'quite', 'different', '.', 'A', 'simple', 'example', 'is', 'a', 'farmer', 'who', 'grows', 'strawberries', '.', 'He', 'can', 'sell', 'his', 'entire', 'crop', 'to', 'a', 'retailer', 'or', 'distributor', 'for', 'a', 'discounted', 'price', ',', 'in', 'one', 'easy', 'transaction', 'B2B', '.', 'Or', 'he', 'can', 'set-up', 'a', 'small', 'farm', 'shop', 'and', 'sell', 'punnets', 'of', 'strawberries', 'to', 'individual', 'consumers', 'at', 'a', 'higher', 'price', 'B2C', '.', 'The', 'B2C', 'model', 'generates', 'more', 'money', 'for', 'his', 'strawberries', 'but', 'requires', 'a', 'lot', 'of', 'his', 'time', '.', 'With', 'the', 'B2B', 'model', ',', 'the', 'Business', 'needs', 'to', 'set-up', 'long-term', ',', 'trusted', 'relationships', 'with', 'other', 'Businesses', '.', 'The', 'B2C', 'model', 'requires', 'marketing', ',', 'brand', 'recognition', 'and', 'advertising', 'to', 'attract', 'customers', '.']\n",
            "Filtered Sentece:  ['B2B', 'stands', 'Business', 'Business', 'refers', 'Business', 'selling', 'goods', 'services', 'another', 'Business', '.', 'In', 'B2C', '(', 'Business', 'Customer', ')', 'model', ',', 'end', 'user', 'individual', '.', 'The', 'result', 'company', ';', 'sell', 'product', 'service', '.', 'However', ',', 'Business', 'Model', 'Marketing', 'strategies', 'quite', 'different', '.', 'A', 'simple', 'example', 'farmer', 'grows', 'strawberries', '.', 'He', 'sell', 'entire', 'crop', 'retailer', 'distributor', 'discounted', 'price', ',', 'one', 'easy', 'transaction', 'B2B', '.', 'Or', 'set-up', 'small', 'farm', 'shop', 'sell', 'punnets', 'strawberries', 'individual', 'consumers', 'higher', 'price', 'B2C', '.', 'The', 'B2C', 'model', 'generates', 'money', 'strawberries', 'requires', 'lot', 'time', '.', 'With', 'B2B', 'model', ',', 'Business', 'needs', 'set-up', 'long-term', ',', 'trusted', 'relationships', 'Businesses', '.', 'The', 'B2C', 'model', 'requires', 'marketing', ',', 'brand', 'recognition', 'advertising', 'attract', 'customers', '.']\n"
          ]
        }
      ]
    },
    {
      "cell_type": "markdown",
      "source": [
        "### PorterStemmer ist ein Algorithmus zur Stammformreduktion von Wörtern in der natürlichen Sprache. Der PorterStemmer reduziert Wörter auf ihre Grundform oder ihren Stamm, indem er bestimmte Suffixe entfernt, die oft dazu dienen, die Wortform zu ändern, ohne die Bedeutung des Wortes zu verändern. Der Algorithmus arbeitet in mehreren Schritten, die auf der Analyse der Struktur des Wortes basieren, um festzustellen, welche Suffixe entfernt werden müssen. Zum Beispiel wird das Wort **\"walking\"** durch den PorterStemmer auf **\"walk\"** reduziert, indem das Suffix **\"-ing\"** entfernt wird. Der PorterStemmer arbeitet jedoch nicht immer perfekt und kann manchmal zu unerwünschten Stemmungen führen, wenn das Wort nicht in seiner Grundform bleibt."
      ],
      "metadata": {
        "id": "RiBSoZ6NsIOI"
      }
    },
    {
      "cell_type": "code",
      "source": [
        "from nltk.stem import PorterStemmer\n",
        "from nltk.tokenize import sent_tokenize, word_tokenize\n",
        "\n",
        "ps = PorterStemmer()\n",
        "stemmed_words=[]\n",
        "\n",
        "for w in filtered_sent:\n",
        "  stemmed_words.append(ps.stem(w))\n",
        "\n",
        "print(\"Filtered Sentence: \", filtered_sent)\n",
        "print(\"Stemmed Sentece: \", stemmed_words)\n",
        "\n"
      ],
      "metadata": {
        "colab": {
          "base_uri": "https://localhost:8080/"
        },
        "id": "iZQeyf5grFpj",
        "outputId": "76be902c-3e76-4759-dad1-8b3296eebdee"
      },
      "execution_count": 25,
      "outputs": [
        {
          "output_type": "stream",
          "name": "stdout",
          "text": [
            "Filtered Sentence:  ['B2B', 'stands', 'Business', 'Business', 'refers', 'Business', 'selling', 'goods', 'services', 'another', 'Business', '.', 'In', 'B2C', '(', 'Business', 'Customer', ')', 'model', ',', 'end', 'user', 'individual', '.', 'The', 'result', 'company', ';', 'sell', 'product', 'service', '.', 'However', ',', 'Business', 'Model', 'Marketing', 'strategies', 'quite', 'different', '.', 'A', 'simple', 'example', 'farmer', 'grows', 'strawberries', '.', 'He', 'sell', 'entire', 'crop', 'retailer', 'distributor', 'discounted', 'price', ',', 'one', 'easy', 'transaction', 'B2B', '.', 'Or', 'set-up', 'small', 'farm', 'shop', 'sell', 'punnets', 'strawberries', 'individual', 'consumers', 'higher', 'price', 'B2C', '.', 'The', 'B2C', 'model', 'generates', 'money', 'strawberries', 'requires', 'lot', 'time', '.', 'With', 'B2B', 'model', ',', 'Business', 'needs', 'set-up', 'long-term', ',', 'trusted', 'relationships', 'Businesses', '.', 'The', 'B2C', 'model', 'requires', 'marketing', ',', 'brand', 'recognition', 'advertising', 'attract', 'customers', '.']\n",
            "Stemmed Sentece:  ['b2b', 'stand', 'busi', 'busi', 'refer', 'busi', 'sell', 'good', 'servic', 'anoth', 'busi', '.', 'in', 'b2c', '(', 'busi', 'custom', ')', 'model', ',', 'end', 'user', 'individu', '.', 'the', 'result', 'compani', ';', 'sell', 'product', 'servic', '.', 'howev', ',', 'busi', 'model', 'market', 'strategi', 'quit', 'differ', '.', 'a', 'simpl', 'exampl', 'farmer', 'grow', 'strawberri', '.', 'he', 'sell', 'entir', 'crop', 'retail', 'distributor', 'discount', 'price', ',', 'one', 'easi', 'transact', 'b2b', '.', 'or', 'set-up', 'small', 'farm', 'shop', 'sell', 'punnet', 'strawberri', 'individu', 'consum', 'higher', 'price', 'b2c', '.', 'the', 'b2c', 'model', 'gener', 'money', 'strawberri', 'requir', 'lot', 'time', '.', 'with', 'b2b', 'model', ',', 'busi', 'need', 'set-up', 'long-term', ',', 'trust', 'relationship', 'busi', '.', 'the', 'b2c', 'model', 'requir', 'market', ',', 'brand', 'recognit', 'advertis', 'attract', 'custom', '.']\n"
          ]
        }
      ]
    }
  ]
}